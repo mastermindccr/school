{
  "nbformat": 4,
  "nbformat_minor": 0,
  "metadata": {
    "colab": {
      "provenance": []
    },
    "kernelspec": {
      "name": "python3",
      "display_name": "Python 3"
    },
    "language_info": {
      "name": "python"
    },
    "accelerator": "GPU"
  },
  "cells": [
    {
      "cell_type": "code",
      "metadata": {
        "id": "cz_yDb_CmmrS"
      },
      "source": [
        "# 最基本的幾個套件，基本上一定要import\n",
        "import numpy as np\n",
        "import tensorflow as tf\n",
        "from tensorflow import keras\n",
        "\n",
        "# 跟「繪圖」有關的套件，如果沒有打算繪圖就不用 import\n",
        "%matplotlib inline\n",
        "import matplotlib.pyplot as plt\n",
        "\n",
        "# 跟「Preprocess」有關的套件，如果沒有要訓練模型的話就不用 import\n",
        "from tensorflow.keras.utils import to_categorical\n",
        "from tensorflow.keras.preprocessing.image import ImageDataGenerator\n",
        "\n",
        "# 跟「設計模型」有關的套件，如果沒有要設計或是修改模型的話就不用 import\n",
        "from tensorflow.keras.models import Sequential\n",
        "from tensorflow.keras.layers import Dense, Activation, Flatten, Dropout, Conv2D, MaxPooling2D\n",
        "\n",
        "# 跟「編譯(compile)模型」有關的套件\n",
        "from tensorflow.keras.optimizers import Adam\n",
        "from tensorflow.keras.metrics import categorical_crossentropy\n",
        "\n",
        "# 跟「混淆矩陣(confusion matrix)」有關的套件\n",
        "from sklearn.metrics import confusion_matrix\n",
        "import itertools\n",
        "\n",
        "# 跟「MNIST資料庫」有關的套件，如果要換其他的資料庫，把\"mnist\"換成其他資料庫的名字 \n",
        "# 其他資料庫有：cifar10, cifar100, imdb, reuters...等，未來若要練習其他機器學習技巧可以玩玩看！\n",
        "from tensorflow.keras.datasets import mnist \n",
        "\n"
      ],
      "execution_count": null,
      "outputs": []
    },
    {
      "cell_type": "code",
      "metadata": {
        "colab": {
          "base_uri": "https://localhost:8080/"
        },
        "id": "dkW5AAJgnvJ1",
        "outputId": "6712431f-a126-42a1-9566-70b34ea70257"
      },
      "source": [
        "physical_devices = tf.config.experimental.list_physical_devices('GPU')\n",
        "print(\" Number of GPUs available: \" , len(physical_devices))\n",
        "tf.config.experimental.set_memory_growth(physical_devices[0], True)"
      ],
      "execution_count": null,
      "outputs": [
        {
          "output_type": "stream",
          "name": "stdout",
          "text": [
            " Number of GPUs available:  1\n"
          ]
        }
      ]
    },
    {
      "cell_type": "code",
      "metadata": {
        "cellView": "code",
        "id": "p6tJCAdBmknS"
      },
      "source": [
        "def show_train_history(train_history):\n",
        "\n",
        "  fig , ax = plt.subplots()\n",
        "  fig.subplots_adjust(hspace=0.4, wspace=0.4) #設定子圖的間隔\n",
        "  fig.set_figwidth(14)\n",
        "\n",
        "  ax1 = plt.subplot(1, 2, 1)\n",
        "  plt.title(\"Accuracy\")\n",
        "  plt.plot(train_history.history['accuracy'],'-', label='accuracy')\n",
        "  plt.plot(train_history.history['val_accuracy'],'-',  label='val_accuracy')\n",
        "  leg = ax1.legend(loc='lower right') \n",
        "  plt.ylabel('accuracy')\n",
        "  plt.xlabel('Epoch')\n",
        "\n",
        "\n",
        "  ax2 = plt.subplot(1, 2, 2)\n",
        "  plt.title(\"Loss\")\n",
        "  plt.plot(train_history.history['loss'],'-', label='loss')\n",
        "  plt.plot(train_history.history['val_loss'],'-', label='val_loss')\n",
        "  leg = ax2.legend(loc='upper right') \n",
        "  plt.ylabel('loss')\n",
        "  plt.xlabel('Epoch')\n",
        "  plt.show()"
      ],
      "execution_count": null,
      "outputs": []
    },
    {
      "cell_type": "code",
      "metadata": {
        "id": "Jjj589xFLod5"
      },
      "source": [
        "def view_image(image_data, title1, title2=None):\n",
        "  if title2 is None:\n",
        "    num = min(len(image_data), len(title1), 9)\n",
        "  else:\n",
        "    num = min(len(image_data), len(title1), len(title2), 9)\n",
        "  plt.figure(figsize=(14,14))\n",
        "  for i in range(num):\n",
        "    plt.subplot(3, 3, i+1)\n",
        "    plt.imshow(image_data[i])\n",
        "    plt.colorbar(orientation='vertical')\n",
        "    if title2 is None:\n",
        "      plt.title(str(title1[i]))\n",
        "    else:\n",
        "      plt.title(str(title1[i]) + ' | ' + str(title2[i]))"
      ],
      "execution_count": null,
      "outputs": []
    },
    {
      "cell_type": "code",
      "metadata": {
        "id": "P9xMZzeTpCuw"
      },
      "source": [
        "def plot_confusion_matrix( test_labels, results, classes, normalize=False, title=\"Confusion Matrix\", cmap=plt.cm.Blues):\n",
        "  cm = confusion_matrix(test_labels, results)\n",
        "  plt.figure()\n",
        "  plt.imshow(cm, interpolation='nearest', cmap=cmap)\n",
        "  plt.title(title)\n",
        "  plt.colorbar()\n",
        "  tick_marks = np.arange(len(classes))\n",
        "  plt.xticks(tick_marks, classes, rotation=45)\n",
        "  plt.yticks(tick_marks, classes)\n",
        "  if normalize:\n",
        "      cm = cm.astype('float') / cm.sum(axis=1)[:, np.newaxis]\n",
        "  thresh = cm.max() / 2\n",
        "  for i, j in itertools.product(range(cm.shape[0]), range(cm.shape[1])):\n",
        "      plt.text(j, i, cm[i, j], horizontalalignment=\"center\", color=\"white\" if cm[i, j] > thresh else \"black\")\n",
        "  \n",
        "  plt.tight_layout()\n",
        "  plt.ylabel('True label')\n",
        "  plt.xlabel('Predicted label')"
      ],
      "execution_count": null,
      "outputs": []
    },
    {
      "cell_type": "code",
      "metadata": {
        "colab": {
          "base_uri": "https://localhost:8080/"
        },
        "id": "3vrHipOnmFbH",
        "outputId": "14b9e6cc-5a3b-4467-d60b-7e65b5d740a0"
      },
      "source": [
        "# 下載 mnist 資料\n",
        "(X_TRAIN, Y_TRAIN), (X_TEST, Y_TEST) = mnist.load_data()\n",
        "# X: 資料本身, Y: 資料的標籤（也就是0,1,2,...,9）\n",
        "print(X_TRAIN.shape)\n",
        "print(Y_TRAIN.shape)\n",
        "print(X_TEST.shape)\n",
        "print(Y_TEST.shape)"
      ],
      "execution_count": null,
      "outputs": [
        {
          "output_type": "stream",
          "name": "stdout",
          "text": [
            "Downloading data from https://storage.googleapis.com/tensorflow/tf-keras-datasets/mnist.npz\n",
            "11493376/11490434 [==============================] - 0s 0us/step\n",
            "11501568/11490434 [==============================] - 0s 0us/step\n",
            "(60000, 28, 28)\n",
            "(60000,)\n",
            "(10000, 28, 28)\n",
            "(10000,)\n"
          ]
        }
      ]
    },
    {
      "cell_type": "code",
      "metadata": {
        "colab": {
          "base_uri": "https://localhost:8080/",
          "height": 819
        },
        "id": "G4jYsCL_MSnM",
        "outputId": "a6366822-3ba9-4520-a8b2-4659fd95b96f"
      },
      "source": [
        "view_image(image_data=X_TRAIN, title1=Y_TRAIN )"
      ],
      "execution_count": null,
      "outputs": [
        {
          "output_type": "display_data",
          "data": {
            "text/plain": [
              "<Figure size 1008x1008 with 18 Axes>"
            ],
            "image/png": "[encoded data removed]"
          },
          "metadata": {
            "needs_background": "light"
          }
        }
      ]
    },
    {
      "cell_type": "code",
      "metadata": {
        "colab": {
          "base_uri": "https://localhost:8080/"
        },
        "cellView": "code",
        "id": "52KI7yifmQ8L",
        "outputId": "f37234a8-a14b-4316-ae59-9fbfbfb67dbb"
      },
      "source": [
        "# add channel\n",
        "\n",
        "x_train_reshaped = X_TRAIN.reshape(60000,28,28,1)\n",
        "x_test_reshaped = X_TEST.reshape(10000,28,28,1)\n",
        "\n",
        "x_train_normalized = x_train_reshaped / 255\n",
        "x_test_normalized = x_test_reshaped / 255\n",
        "\n",
        "y_train_onehot = to_categorical(Y_TRAIN)\n",
        "y_test_onehot = to_categorical(Y_TEST)\n",
        "\n",
        "print(x_train_normalized.shape)\n",
        "print(x_test_normalized.shape)"
      ],
      "execution_count": null,
      "outputs": [
        {
          "output_type": "stream",
          "name": "stdout",
          "text": [
            "(60000, 28, 28, 1)\n",
            "(10000, 28, 28, 1)\n"
          ]
        }
      ]
    },
    {
      "cell_type": "code",
      "metadata": {
        "id": "qjnfgBK6w0Uy"
      },
      "source": [
        "model = Sequential([\n",
        "  # TODO1 START\n",
        "\n",
        "  # TODO1 END\n",
        "])"
      ],
      "execution_count": null,
      "outputs": []
    },
    {
      "cell_type": "code",
      "metadata": {
        "id": "ClQS11kJmqTN"
      },
      "source": [
        "model.summary()"
      ],
      "execution_count": null,
      "outputs": []
    },
    {
      "cell_type": "code",
      "metadata": {
        "id": "EshAmxgomt5L"
      },
      "source": [
        "# 定義訓練方式\n",
        "# loss function: 交叉熵\n",
        "# optimizer: Adam\n",
        "# 評估模型: 準確率\n",
        "model.compile(loss='categorical_crossentropy', optimizer=Adam(), metrics=['accuracy'])"
      ],
      "execution_count": null,
      "outputs": []
    },
    {
      "cell_type": "code",
      "metadata": {
        "id": "CFxN76bSmxF1"
      },
      "source": [
        "train_history = model.fit(x_train_normalized, y_train_onehot, validation_split=0.2, epochs=30, batch_size=300, verbose=1)"
      ],
      "execution_count": null,
      "outputs": []
    },
    {
      "cell_type": "code",
      "metadata": {
        "id": "F1MOPlVEoRT1"
      },
      "source": [
        "show_train_history(train_history)"
      ],
      "execution_count": null,
      "outputs": []
    },
    {
      "cell_type": "code",
      "metadata": {
        "id": "yr8fZznkosQJ"
      },
      "source": [
        "score = model.evaluate(x_test_normalized, y_test_onehot)\n",
        "print(\"Accuracy: \", score[1]*100)"
      ],
      "execution_count": null,
      "outputs": []
    },
    {
      "cell_type": "code",
      "metadata": {
        "id": "56OjJKZipH-G"
      },
      "source": [
        "RESULTS = model.predict(x_test_normalized)\n",
        "RESULTS = np.argmax(RESULTS,axis=1)\n",
        "plot_confusion_matrix(Y_TEST, RESULTS, [0,1,2,3,4,5,6,7,8,9])"
      ],
      "execution_count": null,
      "outputs": []
    },
    {
      "cell_type": "code",
      "metadata": {
        "id": "-f_wP7-KOnp6"
      },
      "source": [
        "filter = []\n",
        "for i in range(len(RESULTS)):\n",
        "  if RESULTS[i] == Y_TEST[i] :\n",
        "    filter.append(False)\n",
        "  else:\n",
        "    filter.append(True)\n",
        "    \n",
        "\n",
        "x_test_incorrect = X_TEST[filter]\n",
        "y_test_incorrect = Y_TEST[filter]\n",
        "results_incorrect = RESULTS[filter]"
      ],
      "execution_count": null,
      "outputs": []
    },
    {
      "cell_type": "code",
      "metadata": {
        "id": "8oOZOS74PYJt"
      },
      "source": [
        "view_image(x_test_incorrect, y_test_incorrect, results_incorrect)"
      ],
      "execution_count": null,
      "outputs": []
    },
    {
      "cell_type": "code",
      "metadata": {
        "id": "uZoxxIHlfth4"
      },
      "source": [
        "import os.path\n",
        "if os.path.isfile('models/mnist_CNN.h5') is False:\n",
        "  model.save('models/mnist_CNN.h5')"
      ],
      "execution_count": null,
      "outputs": []
    }
  ]
}