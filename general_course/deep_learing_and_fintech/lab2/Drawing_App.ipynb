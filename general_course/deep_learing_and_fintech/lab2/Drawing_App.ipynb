{
  "nbformat": 4,
  "nbformat_minor": 0,
  "metadata": {
    "colab": {
      "name": "Drawing_App_CNN_DNN.ipynb",
      "provenance": [],
      "collapsed_sections": []
    },
    "kernelspec": {
      "name": "python3",
      "display_name": "Python 3"
    },
    "language_info": {
      "name": "python"
    },
    "accelerator": "GPU"
  },
  "cells": [
    {
      "cell_type": "markdown",
      "metadata": {
        "id": "H8KSj6JkwcFm"
      },
      "source": [
        "# Drawing App\n",
        "我們來實作一個可以辨識手寫數字的python程式吧！<br/><br/>\n",
        "這個程式有三個部分要完成：\n",
        "1. 讓使用者可以寫一個數字，並把數字轉成一個 array\n",
        "1. 把這個 array 進行 preprocess ，變成一個可以直接丟進 model 的格式\n",
        "1. 載入上次訓練好的 model 並且使用 `predict` 函數預測結果\n",
        "\n"
      ]
    },
    {
      "cell_type": "markdown",
      "metadata": {
        "id": "rmmcqSO5xVmq"
      },
      "source": [
        "# 讓使用者可以寫數字\n",
        "\n",
        "這邊的程式碼比較複雜，不必深究，我自己也是從網路上看一些範例整合出來的 XD"
      ]
    },
    {
      "cell_type": "markdown",
      "metadata": {
        "id": "GkG2wj0YxrnN"
      },
      "source": [
        "我們先 import 跟繪圖有關的套件"
      ]
    },
    {
      "cell_type": "code",
      "metadata": {
        "id": "x8OI-sud8cmL"
      },
      "source": [
        "from IPython.display import HTML, Image\n",
        "from google.colab.output import eval_js\n",
        "import base64\n",
        "import matplotlib.pyplot as plt\n",
        "\n",
        "from PIL import Image\n",
        "import io\n",
        "import torch\n"
      ],
      "execution_count": 1,
      "outputs": []
    },
    {
      "cell_type": "markdown",
      "metadata": {
        "id": "tNvaTTyKxxaa"
      },
      "source": [
        "這邊是跟機器學習有關的 import ，可以發現比訓練時要 import 的少很多，因為我們要直接用訓練好的 model"
      ]
    },
    {
      "cell_type": "code",
      "metadata": {
        "id": "luUOMMviNqII"
      },
      "source": [
        "import numpy as np\n",
        "import tensorflow as tf\n",
        "from tensorflow import keras\n"
      ],
      "execution_count": 2,
      "outputs": []
    },
    {
      "cell_type": "markdown",
      "metadata": {
        "id": "dVHFaUGXyCmv"
      },
      "source": [
        "這段是設定寫數字的畫布(canvas)的樣子，是其他語法(JavaScript和HTML)寫成的，如果有興趣學習怎麼架網站的同學，這兩個語法非常重要，可以有空自行學習。"
      ]
    },
    {
      "cell_type": "code",
      "metadata": {
        "id": "dtHOufJY56gE"
      },
      "source": [
        "\n",
        "\n",
        "canvas_html = \"\"\"\n",
        "<div>\n",
        "<canvas width=%d height=%d></canvas>\n",
        "<button>Finish</button>\n",
        "</div>\n",
        "<script>\n",
        "var div = document.querySelector('div')\n",
        "var canvas = document.querySelector('canvas')\n",
        "var ctx = canvas.getContext('2d')\n",
        "ctx.lineWidth = %d\n",
        "var button = document.querySelector('button')\n",
        "var mouse = {x: 0, y: 0}\n",
        "div.style.display = 'flex'\n",
        "div.style.flex_direction = 'row'\n",
        "canvas.addEventListener('mousemove', function(e) {\n",
        "  mouse.x = e.pageX - this.offsetLeft\n",
        "  mouse.y = e.pageY - this.offsetTop\n",
        "})\n",
        "canvas.onmousedown = ()=>{\n",
        "  ctx.beginPath()\n",
        "  ctx.moveTo(mouse.x, mouse.y)\n",
        "  canvas.addEventListener('mousemove', onPaint)\n",
        "}\n",
        "canvas.onmouseup = ()=>{\n",
        "  canvas.removeEventListener('mousemove', onPaint)\n",
        "}\n",
        "canvas.style.border = 'thick solid #0000FF'\n",
        "var onPaint = () => {\n",
        "  ctx.lineTo(mouse.x, mouse.y)\n",
        "  ctx.stroke()\n",
        "}\n",
        "var data = new Promise(resolve=>{\n",
        "  button.onclick = () => {\n",
        "    resolve(canvas.toDataURL('image/png'))\n",
        "  }\n",
        "})\n",
        "</script>\n",
        "\"\"\"\n"
      ],
      "execution_count": 3,
      "outputs": []
    },
    {
      "cell_type": "markdown",
      "metadata": {
        "id": "oR4i4GvWys0m"
      },
      "source": [
        "把寫好的數字圖片顯示出來的程式，跟我們上次用的一樣！只是這邊我們把它變成一個函式(function)，之後只要寫一行`plot(data)`就可以用了！"
      ]
    },
    {
      "cell_type": "code",
      "metadata": {
        "id": "UFjGv8nwMpQ_"
      },
      "source": [
        "def plot(data):\n",
        "  H = np.array(data)  # added some commas and array creation code\n",
        "\n",
        "  fig = plt.figure(figsize=(6, 3.2))\n",
        "\n",
        "  ax = fig.add_subplot(111)\n",
        "  ax.set_title('colorMap')\n",
        "  plt.imshow(H)\n",
        "  ax.set_aspect('equal')\n",
        "\n",
        "  cax = fig.add_axes([0.12, 0.1, 0.78, 0.8])\n",
        "  cax.get_xaxis().set_visible(False)\n",
        "  cax.get_yaxis().set_visible(False)\n",
        "  cax.patch.set_alpha(0)\n",
        "  cax.set_frame_on(False)\n",
        "  plt.colorbar(orientation='vertical')\n",
        "  plt.show()"
      ],
      "execution_count": 4,
      "outputs": []
    },
    {
      "cell_type": "markdown",
      "metadata": {
        "id": "EBHPli0IyiMs"
      },
      "source": [
        "設定圖片的寬度（記得我們之前訓練時是用28*28的圖片嗎？）"
      ]
    },
    {
      "cell_type": "code",
      "metadata": {
        "id": "5LtBqrxlzFNY"
      },
      "source": [
        "IMAGE_WIDTH = 28"
      ],
      "execution_count": 5,
      "outputs": []
    },
    {
      "cell_type": "markdown",
      "metadata": {
        "id": "yKDj5saSzHop"
      },
      "source": [
        "以下這段程式碼會在 Google Colab 裡面創建一個寫字區域，然後把寫完的數字轉成 **IMAGE_WIDTH * IMAGE_WIDTH 的二維陣列**"
      ]
    },
    {
      "cell_type": "code",
      "metadata": {
        "id": "p5SG7DQn8VmG"
      },
      "source": [
        "def draw(filename='drawing.png', w=400, h=200, line_width=10):\n",
        "  display(HTML(canvas_html % (w, h, line_width)))\n",
        "  data = eval_js(\"data\")\n",
        "  \n",
        "  base64_decoded = base64.b64decode(data.split(',')[1])\n",
        "\n",
        "  image = Image.open(io.BytesIO(base64_decoded)).resize((IMAGE_WIDTH,IMAGE_WIDTH))\n",
        "  image_array = np.asarray(image)\n",
        "\n",
        "  result = np.zeros((IMAGE_WIDTH,IMAGE_WIDTH))\n",
        "\n",
        "  for i in range(IMAGE_WIDTH):\n",
        "    for j in range(IMAGE_WIDTH):\n",
        "      if  sum(image_array[i][j])*2 > 255 :\n",
        "\n",
        "        result[i][j] =  255 \n",
        "      else:\n",
        "        result[i][j] = sum(image_array[i][j])*2\n",
        "  plot(result)\n",
        "  \"\"\"\n",
        "  with open(filename, 'wb') as f:\n",
        "    f.write(base64_decoded)\n",
        "  \"\"\"\n",
        "  \n",
        "  return result"
      ],
      "execution_count": 6,
      "outputs": []
    },
    {
      "cell_type": "markdown",
      "metadata": {
        "id": "ObyCfvJqYTas"
      },
      "source": [
        "# 載入模型\n",
        "我們先把之前下載的 `mnist_DNN.h5` 檔案上傳到資料夾裡面，步驟如下：\n",
        "\n",
        "1. 點左側的資料夾圖示\n",
        "2. 按右鍵，點選 `新增資料夾`\n",
        "3. 資料夾取名為 `models` （其實可以取其他名字，但等一下載入 model 時的路徑要跟資料夾名稱一致）\n",
        "4. 在 `models` 上面按右鍵，點選 `上傳` \n",
        "5. 找到之前下載的 `mnist_DNN.h5` 檔案並上傳\n",
        "\n",
        "上傳完成之後就大功告成了！\n",
        "\n"
      ]
    },
    {
      "cell_type": "markdown",
      "metadata": {
        "id": "CAC63PA02UNY"
      },
      "source": [
        "接下來就跟之前 Keras_Basic 教過的方法一樣，用以下這兩行程式碼把 model 載入到程式裡面（如果你的資料夾不是取名`models`，記得要把下面`models`的地方改成你自己取的資料夾名稱喔）"
      ]
    },
    {
      "cell_type": "code",
      "metadata": {
        "id": "xSD2aaorOZ7T"
      },
      "source": [
        "from tensorflow.keras.models import load_model\n",
        "model_CNN = load_model('models/mnist_CNN.h5')\n",
        "model_DNN = load_model('models/mnist_DNN.h5')"
      ],
      "execution_count": 8,
      "outputs": []
    },
    {
      "cell_type": "code",
      "metadata": {
        "id": "EnDattJO_M07",
        "colab": {
          "base_uri": "https://localhost:8080/",
          "height": 997
        },
        "outputId": "86f676c9-7e2a-44bb-91d0-3b7a621e87fc"
      },
      "source": [
        "tf.keras.utils.plot_model(\n",
        "   model_CNN,\n",
        "   to_file = 'model_CNN.png',\n",
        "   show_shapes = True,\n",
        "   show_layer_names = False\n",
        ") "
      ],
      "execution_count": 9,
      "outputs": [
        {
          "output_type": "execute_result",
          "data": {
            "text/plain": [
              "<IPython.core.display.Image object>"
            ],
            "image/png": "[encoded data removed]"
          },
          "metadata": {},
          "execution_count": 9
        }
      ]
    },
    {
      "cell_type": "code",
      "metadata": {
        "id": "2sOsg3ncQIE_",
        "colab": {
          "base_uri": "https://localhost:8080/",
          "height": 248
        },
        "outputId": "cdc322de-16e4-4381-8d06-004cebef479d"
      },
      "source": [
        "tf.keras.utils.plot_model(\n",
        "   model_DNN,\n",
        "   to_file = 'model_DNN.png',\n",
        "   show_shapes = True,\n",
        "   show_layer_names = False\n",
        ") "
      ],
      "execution_count": 11,
      "outputs": [
        {
          "output_type": "error",
          "ename": "NameError",
          "evalue": "ignored",
          "traceback": [
            "\u001b[0;31m---------------------------------------------------------------------------\u001b[0m",
            "\u001b[0;31mNameError\u001b[0m                                 Traceback (most recent call last)",
            "\u001b[0;32m<ipython-input-11-d13b87fd3aa0>\u001b[0m in \u001b[0;36m<module>\u001b[0;34m()\u001b[0m\n\u001b[1;32m      1\u001b[0m tf.keras.utils.plot_model(\n\u001b[0;32m----> 2\u001b[0;31m    \u001b[0mmodel_DNN\u001b[0m\u001b[0;34m,\u001b[0m\u001b[0;34m\u001b[0m\u001b[0;34m\u001b[0m\u001b[0m\n\u001b[0m\u001b[1;32m      3\u001b[0m    \u001b[0mto_file\u001b[0m \u001b[0;34m=\u001b[0m \u001b[0;34m'model_DNN.png'\u001b[0m\u001b[0;34m,\u001b[0m\u001b[0;34m\u001b[0m\u001b[0;34m\u001b[0m\u001b[0m\n\u001b[1;32m      4\u001b[0m    \u001b[0mshow_shapes\u001b[0m \u001b[0;34m=\u001b[0m \u001b[0;32mTrue\u001b[0m\u001b[0;34m,\u001b[0m\u001b[0;34m\u001b[0m\u001b[0;34m\u001b[0m\u001b[0m\n\u001b[1;32m      5\u001b[0m    \u001b[0mshow_layer_names\u001b[0m \u001b[0;34m=\u001b[0m \u001b[0;32mFalse\u001b[0m\u001b[0;34m\u001b[0m\u001b[0;34m\u001b[0m\u001b[0m\n",
            "\u001b[0;31mNameError\u001b[0m: name 'model_DNN' is not defined"
          ]
        }
      ]
    },
    {
      "cell_type": "markdown",
      "metadata": {
        "id": "JwVkVZwvziWb"
      },
      "source": [
        "# 開始繪圖！\n",
        "以上的程式碼並不需要深入了解，只要知道它會創建一個畫布讓我們寫數字，然後把數字圖片轉成一個二維陣列"
      ]
    },
    {
      "cell_type": "markdown",
      "metadata": {
        "id": "2lrcNtqTzz4a"
      },
      "source": [
        "以下這一行程式基本上做兩件事情：\n",
        "1. 創建一個 224*224 像素的畫布\n",
        "1. 把寫好的數字變成一個二維陣列，丟進 `data`"
      ]
    },
    {
      "cell_type": "code",
      "metadata": {
        "id": "XPQ1Imnl5_44",
        "colab": {
          "base_uri": "https://localhost:8080/",
          "height": 500
        },
        "outputId": "d1010005-894c-46d2-ec9c-4edadbce6be4"
      },
      "source": [
        " X_TEST = draw(w=224,h=224)"
      ],
      "execution_count": 12,
      "outputs": [
        {
          "output_type": "display_data",
          "data": {
            "text/plain": [
              "<IPython.core.display.HTML object>"
            ],
            "text/html": [
              "\n",
              "<div>\n",
              "<canvas width=224 height=224></canvas>\n",
              "<button>Finish</button>\n",
              "</div>\n",
              "<script>\n",
              "var div = document.querySelector('div')\n",
              "var canvas = document.querySelector('canvas')\n",
              "var ctx = canvas.getContext('2d')\n",
              "ctx.lineWidth = 10\n",
              "var button = document.querySelector('button')\n",
              "var mouse = {x: 0, y: 0}\n",
              "div.style.display = 'flex'\n",
              "div.style.flex_direction = 'row'\n",
              "canvas.addEventListener('mousemove', function(e) {\n",
              "  mouse.x = e.pageX - this.offsetLeft\n",
              "  mouse.y = e.pageY - this.offsetTop\n",
              "})\n",
              "canvas.onmousedown = ()=>{\n",
              "  ctx.beginPath()\n",
              "  ctx.moveTo(mouse.x, mouse.y)\n",
              "  canvas.addEventListener('mousemove', onPaint)\n",
              "}\n",
              "canvas.onmouseup = ()=>{\n",
              "  canvas.removeEventListener('mousemove', onPaint)\n",
              "}\n",
              "canvas.style.border = 'thick solid #0000FF'\n",
              "var onPaint = () => {\n",
              "  ctx.lineTo(mouse.x, mouse.y)\n",
              "  ctx.stroke()\n",
              "}\n",
              "var data = new Promise(resolve=>{\n",
              "  button.onclick = () => {\n",
              "    resolve(canvas.toDataURL('image/png'))\n",
              "  }\n",
              "})\n",
              "</script>\n"
            ]
          },
          "metadata": {}
        },
        {
          "output_type": "display_data",
          "data": {
            "text/plain": [
              "<Figure size 432x230.4 with 3 Axes>"
            ],
            "image/png": "[encoded data removed]"
          },
          "metadata": {
            "needs_background": "light"
          }
        }
      ]
    },
    {
      "cell_type": "markdown",
      "metadata": {
        "id": "0yQhaJ-4Y_VO"
      },
      "source": [
        "# 資料預處理（Preprocess）"
      ]
    },
    {
      "cell_type": "markdown",
      "metadata": {
        "id": "rlBosZh_217M"
      },
      "source": [
        "還記得上次 preprocess 的步驟嗎？\n",
        "  * 把圖片的每一格的值除以 255，也就是每一個的值介於 0~1\n",
        "  * 把 28*28 的二維陣列變成 784 的一維陣列： <br/>\n",
        "    `X_train = X_train.reshape(60000, 784).astype('float32')  `\n",
        "\n",
        "我們用 `plot()` 函式檢查一下是不是跟剛剛寫的數字長的一樣。"
      ]
    },
    {
      "cell_type": "code",
      "metadata": {
        "id": "Dm80mHO4Qy5e",
        "colab": {
          "base_uri": "https://localhost:8080/"
        },
        "outputId": "50b233d1-2bfc-4ff7-881a-ca0c9ed80f62"
      },
      "source": [
        "# CNN preprocess\n",
        "x_test_CNN = np.array([X_TEST])\n",
        "print(x_test_CNN.shape)\n",
        "x_test_CNN = x_test_CNN / 255\n",
        "\n",
        "x_test_CNN = np.expand_dims(x_test_CNN, axis=3)\n",
        "print(x_test_CNN.shape)"
      ],
      "execution_count": 13,
      "outputs": [
        {
          "output_type": "stream",
          "name": "stdout",
          "text": [
            "(1, 28, 28)\n",
            "(1, 28, 28, 1)\n"
          ]
        }
      ]
    },
    {
      "cell_type": "code",
      "metadata": {
        "id": "LNgvv2GkACDR",
        "colab": {
          "base_uri": "https://localhost:8080/"
        },
        "outputId": "244c62a3-9576-4aab-ec77-c01161da29aa"
      },
      "source": [
        "# DNN preprocess\n",
        "x_test_DNN = np.array([X_TEST.reshape(784).astype('float32')])\n",
        "print(x_test_DNN.shape)"
      ],
      "execution_count": 14,
      "outputs": [
        {
          "output_type": "stream",
          "name": "stdout",
          "text": [
            "(1, 784)\n"
          ]
        }
      ]
    },
    {
      "cell_type": "markdown",
      "metadata": {
        "id": "SDIGi_wYZFTB"
      },
      "source": [
        "# 預測"
      ]
    },
    {
      "cell_type": "markdown",
      "metadata": {
        "id": "AsuuIJkB3ToT"
      },
      "source": [
        "接下來就可以直接用 model 進行預測啦！"
      ]
    },
    {
      "cell_type": "code",
      "metadata": {
        "id": "mcyQ3NtsQLAy",
        "colab": {
          "base_uri": "https://localhost:8080/"
        },
        "outputId": "a3fc50fe-c04e-4877-9b10-c61cbc8d6de6"
      },
      "source": [
        "predicted_CNN = model_CNN.predict(x_test_CNN, batch_size=10, verbose=1)\n",
        "predicted_DNN = model_DNN.predict(x_test_DNN, batch_size=10, verbose=1)"
      ],
      "execution_count": 16,
      "outputs": [
        {
          "output_type": "stream",
          "name": "stdout",
          "text": [
            "1/1 [==============================] - 0s 31ms/step\n"
          ]
        }
      ]
    },
    {
      "cell_type": "markdown",
      "metadata": {
        "id": "-IPZbI7RM3Ka"
      },
      "source": [
        "我們把 `predicted` 換成機率的形式，因為我們最後一個 layer 是用softmax 當激勵函數，所以我們用 `tf.nn.softmax()` 函式轉回機率的值。（這個轉換不會影響結果，只是可以標準化不同選項的可能性）"
      ]
    },
    {
      "cell_type": "code",
      "metadata": {
        "id": "WQLVU5fdMvie"
      },
      "source": [
        "predicted_CNN = tf.nn.softmax(predicted_CNN).numpy()\n",
        "predicted_DNN = tf.nn.softmax(predicted_DNN).numpy()"
      ],
      "execution_count": 17,
      "outputs": []
    },
    {
      "cell_type": "markdown",
      "metadata": {
        "id": "ftjjOcbm3YpC"
      },
      "source": [
        "`predict`這個函式會回傳一個陣列，告訴我們模型覺得輸入圖片是 0~9 中某個數字的機率是多少，因此機率最大的就是模型覺得這個圖片最像哪個數字。<br/>\n",
        "下面這一段程式只是把 `predicted` 排序，然後由機率高到低 print 出來"
      ]
    },
    {
      "cell_type": "code",
      "metadata": {
        "id": "MhWr68pMb_1k",
        "colab": {
          "base_uri": "https://localhost:8080/"
        },
        "outputId": "45f4affc-2b67-48fa-b435-9c23822e9cf9"
      },
      "source": [
        "# CNN\n",
        "rank_CNN = sorted(range(len(predicted_CNN[0])), key=lambda k: predicted_CNN[0][k], reverse=True)\n",
        "for i in range(len(predicted_CNN[0])):\n",
        "  print( '數字: ', rank_CNN[i] , '  機率: ' , predicted_CNN[0][rank_CNN[i]]*100 , '%')"
      ],
      "execution_count": 18,
      "outputs": [
        {
          "output_type": "stream",
          "name": "stdout",
          "text": [
            "數字:  2   機率:  23.19691628217697 %\n",
            "數字:  7   機率:  8.533681184053421 %\n",
            "數字:  8   機率:  8.533675968647003 %\n",
            "數字:  0   機率:  8.533675223588943 %\n",
            "數字:  1   機率:  8.533675223588943 %\n",
            "數字:  3   機率:  8.533675223588943 %\n",
            "數字:  4   機率:  8.533675223588943 %\n",
            "數字:  5   機率:  8.533675223588943 %\n",
            "數字:  6   機率:  8.533675223588943 %\n",
            "數字:  9   機率:  8.533675223588943 %\n"
          ]
        }
      ]
    },
    {
      "cell_type": "code",
      "metadata": {
        "id": "-43P2RB_ArtL"
      },
      "source": [
        "# DNN\n",
        "rank_DNN = sorted(range(len(predicted_DNN[0])), key=lambda k: predicted_DNN[0][k], reverse=True)\n",
        "for i in range(len(predicted_DNN[0])):\n",
        "  print( '數字: ', rank_DNN[i] , '  機率: ' , predicted_DNN[0][rank_DNN[i]]*100 , '%')"
      ],
      "execution_count": null,
      "outputs": []
    },
    {
      "cell_type": "markdown",
      "metadata": {
        "id": "oqui3BJ64Gn4"
      },
      "source": [
        "我們也可以直接把答案print出來！"
      ]
    },
    {
      "cell_type": "markdown",
      "metadata": {
        "id": "COjweBwDBvdz"
      },
      "source": [
        "# 答案！"
      ]
    },
    {
      "cell_type": "code",
      "metadata": {
        "id": "DLlTW1mSQDh5"
      },
      "source": [
        "print('CNN 預測：', rank_CNN[0])\n",
        "print('DNN 預測：', rank_DNN[0])"
      ],
      "execution_count": null,
      "outputs": []
    }
  ]
}