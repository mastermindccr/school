{
  "nbformat": 4,
  "nbformat_minor": 0,
  "metadata": {
    "colab": {
      "name": "Basic_DNN_template.ipynb",
      "provenance": [],
      "collapsed_sections": [
        "iw4MIk4w3lFy"
      ]
    },
    "kernelspec": {
      "name": "python3",
      "display_name": "Python 3"
    },
    "language_info": {
      "name": "python"
    }
  },
  "cells": [
    {
      "cell_type": "markdown",
      "metadata": {
        "id": "FFk8Cp_JsvPT"
      },
      "source": [
        "# DNN基礎入門\n",
        "實作一個超簡單的全Dense神經網路！\n",
        "\n",
        "### 規則\n",
        "* 0 <= `input` <= 3\n",
        "* 當`input`>=2，`output`為1\n",
        "* 當`input`< 2，`output`為0"
      ]
    },
    {
      "cell_type": "markdown",
      "metadata": {
        "id": "8ncNbU513ul0"
      },
      "source": [
        "# Import"
      ]
    },
    {
      "cell_type": "code",
      "metadata": {
        "id": "3R31gKMF3uYX"
      },
      "source": [
        "# 最基本的幾個套件，基本上一定要import\n",
        "import numpy as np\n",
        "import tensorflow as tf\n",
        "from tensorflow import keras\n",
        "import random\n",
        "\n",
        "# 跟「繪圖」有關的套件，如果沒有打算繪圖就不用 import\n",
        "%matplotlib inline\n",
        "import matplotlib.pyplot as plt\n",
        "\n",
        "\n",
        "# 跟「設計模型」有關的套件，如果沒有要設計或是修改模型的話就不用 import\n",
        "from tensorflow.keras.models import Sequential\n",
        "from tensorflow.keras.layers import Dense, Activation, Flatten, Dropout, Conv2D, MaxPooling2D\n",
        "\n",
        "# 跟「編譯(compile)模型」有關的套件\n",
        "from tensorflow.keras.optimizers import Adam\n",
        "from tensorflow.keras.metrics import categorical_crossentropy\n",
        "\n",
        "# 跟「混淆矩陣(confusion matrix)」有關的套件\n",
        "from sklearn.metrics import confusion_matrix\n",
        "import itertools\n"
      ],
      "execution_count": null,
      "outputs": []
    },
    {
      "cell_type": "markdown",
      "metadata": {
        "id": "iw4MIk4w3lFy"
      },
      "source": [
        "# 好用的函式"
      ]
    },
    {
      "cell_type": "markdown",
      "metadata": {
        "id": "APF6oFkl3kTK"
      },
      "source": [
        "## show_train_history( train_history )\n",
        "\n",
        "\n",
        "* 用途：繪製 accuracy 和 loss 的曲線，可以用來比較 train set 和\n",
        " validation set 的差距（如果 train set 的 accuracy 遠高於 validation set，就表示有overfitting 的情況）\n",
        " \n",
        "* 參數：\n",
        "  * `train_history`：直接把 `model.fit()` 回傳的 `train_history` 丟進來就可以顯示了\n",
        "  * 任何 Keras Sequential 的模型都能用這個函數"
      ]
    },
    {
      "cell_type": "code",
      "metadata": {
        "id": "WUqvXgfr3jy7"
      },
      "source": [
        "def show_train_history(train_history):\n",
        "\n",
        "  fig , ax = plt.subplots()\n",
        "  fig.subplots_adjust(hspace=0.4, wspace=0.4) #設定子圖的間隔\n",
        "  fig.set_figwidth(14)\n",
        "\n",
        "  ax1 = plt.subplot(1, 2, 1)\n",
        "  plt.title(\"Accuracy\")\n",
        "  plt.plot(train_history.history['accuracy'],'-', label='accuracy')\n",
        "  plt.plot(train_history.history['val_accuracy'],'-',  label='val_accuracy')\n",
        "  leg = ax1.legend(loc='lower right') \n",
        "  plt.ylabel('accuracy')\n",
        "  plt.xlabel('Epoch')\n",
        "\n",
        "\n",
        "  ax2 = plt.subplot(1, 2, 2)\n",
        "  plt.title(\"Loss\")\n",
        "  plt.plot(train_history.history['loss'],'-', label='loss')\n",
        "  plt.plot(train_history.history['val_loss'],'-', label='val_loss')\n",
        "  leg = ax2.legend(loc='upper right') \n",
        "  plt.ylabel('loss')\n",
        "  plt.xlabel('Epoch')\n",
        "  plt.show()"
      ],
      "execution_count": null,
      "outputs": []
    },
    {
      "cell_type": "markdown",
      "metadata": {
        "id": "nsYjf7AirunU"
      },
      "source": [
        ""
      ]
    },
    {
      "cell_type": "markdown",
      "metadata": {
        "id": "SejBIuNZuJAx"
      },
      "source": [
        "# 產生訓練集\n",
        "\n",
        "\n",
        "* 訓練集(train set)有1000筆數據\n",
        "* 驗證集(test set)有200筆數據\n",
        "* 訓練集和驗證集產生的方式是一樣的，只有數量不同\n",
        "\n",
        "## 產生訓練集的規則\n",
        "\n",
        "1. 創建兩個空的`list`分別命名為：\n",
        "  * `x_train`: sample\n",
        "  * `y_train`: label\n",
        "2. 進行一個1000次的`for`迴圈\n",
        "  * 隨機從0~3之中選出一個數字\n",
        "    * Hint: `number = random.randint(0,3)`\n",
        "  * 如果抽出的數字為`i`，則`x_train`要新增一個長度為4，第`i`個元素為1，其他元素為0的陣列\n",
        "    * Hint1: `x_train.append([0,0,1,0])`\n",
        "    * Hint2: \n",
        "      ```\n",
        "      3 => [0,0,0,1]\n",
        "      0 => [1,0,0,0]\n",
        "      1 => [0,1,0,0]\n",
        "      ```\n",
        "\n",
        "  * 同時`y_train`也要新增一個長度為2的陣列\n",
        "    * 若抽出的數字為2,3：\n",
        "      * 要新增[0,1]\n",
        "    * 若抽出的數字為0,1：\n",
        "      * 要新增[1,0]\n",
        "\n",
        "## 產生驗證集的規則\n",
        "和產生訓練集的規則一樣，但是全部的`train`都要變成`test`\n",
        "* e.g. `x_test`, `y_test`\n",
        "\n",
        "## 成果\n",
        "如果您成功完成這段程式碼，最後print出來的結果應該會類似（順序會不太一樣）：\n",
        "  ```\n",
        "  #0: x = [0, 1, 0, 0]  y = [1, 0]\n",
        "  #1: x = [1, 0, 0, 0]  y = [1, 0]\n",
        "  #2: x = [0, 0, 1, 0]  y = [0, 1]\n",
        "  #3: x = [0, 0, 1, 0]  y = [0, 1]\n",
        "  #4: x = [1, 0, 0, 0]  y = [1, 0]\n",
        "  #5: x = [0, 0, 1, 0]  y = [0, 1]\n",
        "  #6: x = [0, 1, 0, 0]  y = [1, 0]\n",
        "  ...\n",
        "  ```\n"
      ]
    },
    {
      "cell_type": "code",
      "metadata": {
        "id": "tIgWdeCVwRpU"
      },
      "source": [
        "x_train=[] # sample 訓練集\n",
        "y_train=[] # label 訓練集\n",
        "for i in range(1000):\n",
        "  # TODO1 START\n",
        "\n",
        "  # TODO1 END\n",
        "  print('#' + str(i) +': x = ' + str(x_train[i])+'  y = '+str(y_train[i]))\n"
      ],
      "execution_count": null,
      "outputs": []
    },
    {
      "cell_type": "code",
      "metadata": {
        "id": "UeEANZ0Lui83"
      },
      "source": [
        "x_test=[] # sample 驗證集\n",
        "y_test=[] # label 驗證集\n",
        "for i in range(200):\n",
        "  # TODO2 START\n",
        "\n",
        "  # TODO2 END\n",
        "  print('#' + str(i) +': x = ' + str(x_test[i])+'  y = '+str(y_test[i]))\n"
      ],
      "execution_count": null,
      "outputs": []
    },
    {
      "cell_type": "markdown",
      "metadata": {
        "id": "l1Dbkh6a-x3n"
      },
      "source": [
        "把`x_train`、`y_train`、`x_test`、`y_test`轉換成numpy array\n",
        "\n",
        "---\n",
        "\n"
      ]
    },
    {
      "cell_type": "code",
      "metadata": {
        "id": "dxkhQ-Lv1jAp"
      },
      "source": [
        "  # TODO3 START\n",
        "\n",
        "  # TODO3 END"
      ],
      "execution_count": null,
      "outputs": []
    },
    {
      "cell_type": "code",
      "metadata": {
        "colab": {
          "base_uri": "https://localhost:8080/"
        },
        "id": "dLeC4aYi1tsy",
        "outputId": "8e3472d6-1aaa-4657-acb7-a8b9f9b6f09d"
      },
      "source": [
        "print(x_train.shape)\n",
        "print(y_train.shape)\n",
        "print(x_test.shape)\n",
        "print(y_test.shape)"
      ],
      "execution_count": null,
      "outputs": [
        {
          "output_type": "stream",
          "name": "stdout",
          "text": [
            "(1000, 4)\n",
            "(1000, 2)\n",
            "(200, 4)\n",
            "(200, 2)\n"
          ]
        }
      ]
    },
    {
      "cell_type": "markdown",
      "metadata": {
        "id": "fM2XLMI4whSy"
      },
      "source": [
        "# 開始建立模型"
      ]
    },
    {
      "cell_type": "markdown",
      "metadata": {
        "id": "_IQOmv3cEfYI"
      },
      "source": [
        "試試看自己疊模型，可以參考之前的 Keras Basic 檔案"
      ]
    },
    {
      "cell_type": "code",
      "metadata": {
        "id": "bvUu_1qzwut7",
        "colab": {
          "base_uri": "https://localhost:8080/",
          "height": 228
        },
        "outputId": "c57365f1-aae2-468c-a782-cd552f21fc71"
      },
      "source": [
        "model = Sequential([\n",
        "    # TODO4 START\n",
        "\n",
        "    # TODO4 END\n",
        "])"
      ],
      "execution_count": 2,
      "outputs": [
        {
          "output_type": "error",
          "ename": "NameError",
          "evalue": "ignored",
          "traceback": [
            "\u001b[0;31m---------------------------------------------------------------------------\u001b[0m",
            "\u001b[0;31mNameError\u001b[0m                                 Traceback (most recent call last)",
            "\u001b[0;32m<ipython-input-2-856d97258df7>\u001b[0m in \u001b[0;36m<module>\u001b[0;34m()\u001b[0m\n\u001b[0;32m----> 1\u001b[0;31m model = Sequential([\n\u001b[0m\u001b[1;32m      2\u001b[0m     \u001b[0;31m# TODO4 START\u001b[0m\u001b[0;34m\u001b[0m\u001b[0;34m\u001b[0m\u001b[0;34m\u001b[0m\u001b[0m\n\u001b[1;32m      3\u001b[0m     \u001b[0mDense\u001b[0m\u001b[0;34m(\u001b[0m\u001b[0munits\u001b[0m\u001b[0;34m=\u001b[0m\u001b[0;36m2\u001b[0m \u001b[0;34m,\u001b[0m\u001b[0minput_shape\u001b[0m\u001b[0;34m=\u001b[0m\u001b[0;34m(\u001b[0m\u001b[0;36m4\u001b[0m\u001b[0;34m,\u001b[0m\u001b[0;34m)\u001b[0m\u001b[0;34m,\u001b[0m\u001b[0mkernel_initializer\u001b[0m\u001b[0;34m=\u001b[0m\u001b[0;34m'normal'\u001b[0m\u001b[0;34m,\u001b[0m \u001b[0mactivation\u001b[0m\u001b[0;34m=\u001b[0m\u001b[0;34m\"softmax\"\u001b[0m\u001b[0;34m)\u001b[0m\u001b[0;34m\u001b[0m\u001b[0;34m\u001b[0m\u001b[0m\n\u001b[1;32m      4\u001b[0m     \u001b[0;31m# TODO4 END\u001b[0m\u001b[0;34m\u001b[0m\u001b[0;34m\u001b[0m\u001b[0;34m\u001b[0m\u001b[0m\n\u001b[1;32m      5\u001b[0m ])\n",
            "\u001b[0;31mNameError\u001b[0m: name 'Sequential' is not defined"
          ]
        }
      ]
    },
    {
      "cell_type": "markdown",
      "metadata": {
        "id": "4VbP5oHciDdp"
      },
      "source": [
        "試試看把最後一層的`activation`從`softmax`改成`relu`進行訓練會發生什麼事？"
      ]
    },
    {
      "cell_type": "code",
      "metadata": {
        "id": "eaypyQ75xL1s",
        "colab": {
          "base_uri": "https://localhost:8080/"
        },
        "outputId": "d6a0e0ef-2694-47da-ff44-f9d8cc616645"
      },
      "source": [
        "model.summary()"
      ],
      "execution_count": null,
      "outputs": [
        {
          "output_type": "stream",
          "name": "stdout",
          "text": [
            "Model: \"sequential_4\"\n",
            "_________________________________________________________________\n",
            "Layer (type)                 Output Shape              Param #   \n",
            "=================================================================\n",
            "dense_4 (Dense)              (None, 4)                 20        \n",
            "_________________________________________________________________\n",
            "dense_5 (Dense)              (None, 3)                 15        \n",
            "_________________________________________________________________\n",
            "dense_6 (Dense)              (None, 2)                 8         \n",
            "=================================================================\n",
            "Total params: 43\n",
            "Trainable params: 43\n",
            "Non-trainable params: 0\n",
            "_________________________________________________________________\n"
          ]
        }
      ]
    },
    {
      "cell_type": "code",
      "metadata": {
        "id": "QWpaIkxKxN00",
        "colab": {
          "base_uri": "https://localhost:8080/",
          "height": 422
        },
        "outputId": "8202eb9f-dc10-4cbd-e967-4927f13d8039"
      },
      "source": [
        "tf.keras.utils.plot_model(\n",
        "    model,\n",
        "    show_shapes = True,\n",
        "    show_layer_names = False\n",
        ")"
      ],
      "execution_count": null,
      "outputs": [
        {
          "output_type": "execute_result",
          "data": {
            "image/png": "[encoded data removed]",
            "text/plain": [
              "<IPython.core.display.Image object>"
            ]
          },
          "metadata": {},
          "execution_count": 53
        }
      ]
    },
    {
      "cell_type": "markdown",
      "metadata": {
        "id": "EYjuE2gWh1ls"
      },
      "source": [
        "試試看如果把`learning_rate`改成`0.0001`會發生什麼事？（記得要把model這個變數清空再重新訓練喔！）"
      ]
    },
    {
      "cell_type": "code",
      "metadata": {
        "id": "CkSOSIaQxUHx"
      },
      "source": [
        "model.compile(optimizer=Adam(learning_rate=0.001), loss='categorical_crossentropy', metrics=['accuracy'])"
      ],
      "execution_count": null,
      "outputs": []
    },
    {
      "cell_type": "markdown",
      "metadata": {
        "id": "IzwyZHJJxWn7"
      },
      "source": [
        "# 訓練模型"
      ]
    },
    {
      "cell_type": "markdown",
      "metadata": {
        "id": "0ZMH1mTMxajp"
      },
      "source": [
        "使用`fit`函數開始訓練模型，我們將`validation_split`設為`0.2`，也就是說有20%的資料會被拿來測試模型的預測準確度`val_accuracy`。<br/><br/>\n",
        "**如果模型發生overfit，`val_accuracy`會比`accuracy`低很多。**\n",
        "<br/><br/>\n",
        "另外我們把訓練過程存在 `train_history` 這個變數裡面，可以記錄訓練情況。"
      ]
    },
    {
      "cell_type": "code",
      "metadata": {
        "colab": {
          "base_uri": "https://localhost:8080/",
          "height": 162
        },
        "id": "Dc98ziu8xXPv",
        "outputId": "2fbff189-0bef-4292-f841-4c195fd56957"
      },
      "source": [
        "train_history = model.fit(x= x_train, y= y_train, epochs=30, validation_split=0.2, batch_size=128, verbose=1) "
      ],
      "execution_count": 1,
      "outputs": [
        {
          "output_type": "error",
          "ename": "NameError",
          "evalue": "ignored",
          "traceback": [
            "\u001b[0;31m---------------------------------------------------------------------------\u001b[0m",
            "\u001b[0;31mNameError\u001b[0m                                 Traceback (most recent call last)",
            "\u001b[0;32m<ipython-input-1-38aa3bd0bedb>\u001b[0m in \u001b[0;36m<module>\u001b[0;34m()\u001b[0m\n\u001b[0;32m----> 1\u001b[0;31m \u001b[0mtrain_history\u001b[0m \u001b[0;34m=\u001b[0m \u001b[0mmodel\u001b[0m\u001b[0;34m.\u001b[0m\u001b[0mfit\u001b[0m\u001b[0;34m(\u001b[0m\u001b[0mx\u001b[0m\u001b[0;34m=\u001b[0m \u001b[0mx_train\u001b[0m\u001b[0;34m,\u001b[0m \u001b[0my\u001b[0m\u001b[0;34m=\u001b[0m \u001b[0my_train\u001b[0m\u001b[0;34m,\u001b[0m \u001b[0mepochs\u001b[0m\u001b[0;34m=\u001b[0m\u001b[0;36m30\u001b[0m\u001b[0;34m,\u001b[0m \u001b[0mvalidation_split\u001b[0m\u001b[0;34m=\u001b[0m\u001b[0;36m0.2\u001b[0m\u001b[0;34m,\u001b[0m \u001b[0mbatch_size\u001b[0m\u001b[0;34m=\u001b[0m\u001b[0;36m128\u001b[0m\u001b[0;34m,\u001b[0m \u001b[0mverbose\u001b[0m\u001b[0;34m=\u001b[0m\u001b[0;36m1\u001b[0m\u001b[0;34m)\u001b[0m\u001b[0;34m\u001b[0m\u001b[0;34m\u001b[0m\u001b[0m\n\u001b[0m",
            "\u001b[0;31mNameError\u001b[0m: name 'model' is not defined"
          ]
        }
      ]
    },
    {
      "cell_type": "markdown",
      "metadata": {
        "id": "bpjrcICD3Z4H"
      },
      "source": [
        "把訓練情況畫出來！"
      ]
    },
    {
      "cell_type": "code",
      "metadata": {
        "colab": {
          "base_uri": "https://localhost:8080/",
          "height": 295
        },
        "id": "yx99rayX4JD5",
        "outputId": "d41dc128-844f-4c69-9341-5e9f6e094abb"
      },
      "source": [
        "show_train_history(train_history)"
      ],
      "execution_count": null,
      "outputs": [
        {
          "output_type": "display_data",
          "data": {
            "image/png": "[encoded data removed]",
            "text/plain": [
              "<Figure size 1008x288 with 2 Axes>"
            ]
          },
          "metadata": {
            "needs_background": "light"
          }
        }
      ]
    },
    {
      "cell_type": "markdown",
      "metadata": {
        "id": "MglEVXiL4NQA"
      },
      "source": [
        "# 測試模型"
      ]
    },
    {
      "cell_type": "markdown",
      "metadata": {
        "id": "wCaJiGI84PPm"
      },
      "source": [
        "我們要使用 x_test 和 y_test 來測試模型，因為這些資料並不是剛剛訓練時使用的資料，因此我們可以確認模型並不是直接把答案背起來，而是真正掌握到數據的特徵。"
      ]
    },
    {
      "cell_type": "code",
      "metadata": {
        "colab": {
          "base_uri": "https://localhost:8080/"
        },
        "id": "VjqDnkDP4SSf",
        "outputId": "0e5e5a7d-38a9-4c4b-eb80-98531bbffd31"
      },
      "source": [
        "score = model.evaluate(x_test, y_test)\n",
        "print('測試分數：', score[0])\n",
        "print('測試準確率：', score[1]*100, '%')"
      ],
      "execution_count": null,
      "outputs": [
        {
          "output_type": "stream",
          "name": "stdout",
          "text": [
            "7/7 [==============================] - 0s 2ms/step - loss: 0.5114 - accuracy: 1.0000\n",
            "測試分數： 0.5114327073097229\n",
            "測試準確率： 100.0 %\n"
          ]
        }
      ]
    },
    {
      "cell_type": "code",
      "metadata": {
        "id": "WTtNptJRAJVL",
        "colab": {
          "base_uri": "https://localhost:8080/"
        },
        "outputId": "2e7b0d02-80bf-4245-f1ac-4f377e742f1f"
      },
      "source": [
        "model.predict(np.array([[1,0,0,0]]),verbose=1)"
      ],
      "execution_count": null,
      "outputs": [
        {
          "output_type": "stream",
          "name": "stdout",
          "text": [
            "1/1 [==============================] - 0s 54ms/step\n"
          ]
        },
        {
          "output_type": "execute_result",
          "data": {
            "text/plain": [
              "array([[0.59274596, 0.407254  ]], dtype=float32)"
            ]
          },
          "metadata": {},
          "execution_count": 58
        }
      ]
    },
    {
      "cell_type": "code",
      "metadata": {
        "colab": {
          "base_uri": "https://localhost:8080/"
        },
        "id": "-_f1gWGl0UK7",
        "outputId": "d05e348a-f4c7-40e5-90f2-6a045dc1c872"
      },
      "source": [
        "model.weights"
      ],
      "execution_count": null,
      "outputs": [
        {
          "output_type": "execute_result",
          "data": {
            "text/plain": [
              "[<tf.Variable 'dense_1/kernel:0' shape=(4, 2) dtype=float32, numpy=\n",
              " array([[ 0.23516637, -0.24058938],\n",
              "        [ 0.1877327 , -0.15467952],\n",
              "        [-0.3374891 ,  0.2888199 ],\n",
              "        [-0.13653404,  0.18759191]], dtype=float32)>,\n",
              " <tf.Variable 'dense_1/bias:0' shape=(2,) dtype=float32, numpy=array([ 0.06273124, -0.06273123], dtype=float32)>]"
            ]
          },
          "metadata": {},
          "execution_count": 32
        }
      ]
    }
  ]
}